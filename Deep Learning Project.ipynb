{
  "nbformat": 4,
  "nbformat_minor": 0,
  "metadata": {
    "colab": {
      "provenance": []
    },
    "kernelspec": {
      "name": "python3",
      "display_name": "Python 3"
    },
    "language_info": {
      "name": "python"
    }
  },
  "cells": [
    {
      "cell_type": "markdown",
      "source": [
        "**Without Augmentation**"
      ],
      "metadata": {
        "id": "Wf7BMmN4ZBve"
      }
    },
    {
      "cell_type": "code",
      "execution_count": null,
      "metadata": {
        "colab": {
          "base_uri": "https://localhost:8080/"
        },
        "id": "g-dRudD8VWRi",
        "outputId": "534b86e9-54ea-4f3a-bc30-04a00053af7e"
      },
      "outputs": [
        {
          "output_type": "execute_result",
          "data": {
            "text/plain": [
              "(10000, 32, 32, 3)"
            ]
          },
          "metadata": {},
          "execution_count": 9
        }
      ],
      "source": [
        "# Import necessary libraries\n",
        "import tensorflow as tf\n",
        "from tensorflow.keras import datasets, layers, models\n",
        "from sklearn.metrics import confusion_matrix, classification_report\n",
        "import matplotlib.pyplot as plt\n",
        "\n",
        "# Load the CIFAR-10 dataset\n",
        "(train_images, train_labels), (test_images, test_labels) = datasets.cifar10.load_data()\n",
        "test_images.shape"
      ]
    },
    {
      "cell_type": "code",
      "source": [
        "# Normalize pixel values to be between 0 and 1\n",
        "train_images, test_images = train_images / 255.0, test_images / 255.0"
      ],
      "metadata": {
        "id": "Ch1S4qsgWAnK"
      },
      "execution_count": null,
      "outputs": []
    },
    {
      "cell_type": "code",
      "source": [
        "# Define the CNN model\n",
        "model = models.Sequential()\n",
        "model.add(layers.Conv2D(32, (3, 3), activation='relu', input_shape=(32, 32, 3)))\n",
        "model.add(layers.MaxPooling2D((2, 2)))\n",
        "model.add(layers.Conv2D(64, (3, 3), activation='relu'))\n",
        "model.add(layers.MaxPooling2D((2, 2)))\n",
        "model.add(layers.Conv2D(64, (3, 3), activation='relu'))\n",
        "model.add(layers.Flatten())\n",
        "model.add(layers.Dense(64, activation='relu'))\n",
        "model.add(layers.Dense(10))"
      ],
      "metadata": {
        "id": "vLNaUdIQWF-P"
      },
      "execution_count": null,
      "outputs": []
    },
    {
      "cell_type": "code",
      "source": [
        "# Compile the model\n",
        "model.compile(optimizer='adam',\n",
        "              loss=tf.keras.losses.SparseCategoricalCrossentropy(from_logits=True),\n",
        "              metrics=['accuracy'])"
      ],
      "metadata": {
        "id": "aJA8_F7EWLAi"
      },
      "execution_count": null,
      "outputs": []
    },
    {
      "cell_type": "code",
      "source": [
        "# Train the model without image augmentation\n",
        "history_without_augmentation = model.fit(train_images, train_labels, epochs=10,\n",
        "                                        validation_data=(test_images, test_labels))"
      ],
      "metadata": {
        "colab": {
          "base_uri": "https://localhost:8080/"
        },
        "id": "ngKQWSv2XJ0T",
        "outputId": "d4bc46fa-3d4c-48f1-ccbe-6730d533aaf9"
      },
      "execution_count": null,
      "outputs": [
        {
          "output_type": "stream",
          "name": "stdout",
          "text": [
            "Epoch 1/10\n",
            "1563/1563 [==============================] - 66s 42ms/step - loss: 1.5537 - accuracy: 0.4327 - val_loss: 1.2619 - val_accuracy: 0.5440\n",
            "Epoch 2/10\n",
            "1563/1563 [==============================] - 68s 43ms/step - loss: 1.1723 - accuracy: 0.5847 - val_loss: 1.1387 - val_accuracy: 0.5969\n",
            "Epoch 3/10\n",
            "1563/1563 [==============================] - 68s 43ms/step - loss: 1.0214 - accuracy: 0.6414 - val_loss: 0.9695 - val_accuracy: 0.6585\n",
            "Epoch 4/10\n",
            "1563/1563 [==============================] - 70s 45ms/step - loss: 0.9257 - accuracy: 0.6762 - val_loss: 0.9893 - val_accuracy: 0.6538\n",
            "Epoch 5/10\n",
            "1563/1563 [==============================] - 67s 43ms/step - loss: 0.8453 - accuracy: 0.7043 - val_loss: 1.0029 - val_accuracy: 0.6526\n",
            "Epoch 6/10\n",
            "1563/1563 [==============================] - 65s 42ms/step - loss: 0.7973 - accuracy: 0.7207 - val_loss: 0.8960 - val_accuracy: 0.6898\n",
            "Epoch 7/10\n",
            "1563/1563 [==============================] - 66s 42ms/step - loss: 0.7481 - accuracy: 0.7363 - val_loss: 0.8732 - val_accuracy: 0.7012\n",
            "Epoch 8/10\n",
            "1563/1563 [==============================] - 65s 41ms/step - loss: 0.7061 - accuracy: 0.7533 - val_loss: 0.8795 - val_accuracy: 0.7079\n",
            "Epoch 9/10\n",
            "1563/1563 [==============================] - 67s 43ms/step - loss: 0.6705 - accuracy: 0.7655 - val_loss: 0.9373 - val_accuracy: 0.6902\n",
            "Epoch 10/10\n",
            "1563/1563 [==============================] - 65s 42ms/step - loss: 0.6375 - accuracy: 0.7744 - val_loss: 0.8683 - val_accuracy: 0.7044\n"
          ]
        }
      ]
    },
    {
      "cell_type": "code",
      "source": [
        "# Evaluate the model without image augmentation\n",
        "test_loss, test_acc = model.evaluate(test_images,  test_labels, verbose=2)\n",
        "print(\"\\nTest Accuracy:\", test_acc)"
      ],
      "metadata": {
        "colab": {
          "base_uri": "https://localhost:8080/"
        },
        "id": "QZQNAhZjXXd0",
        "outputId": "b8085a96-0a7c-46b7-b89a-ff6f79b781d1"
      },
      "execution_count": null,
      "outputs": [
        {
          "output_type": "stream",
          "name": "stdout",
          "text": [
            "313/313 - 3s - loss: 0.8683 - accuracy: 0.7044 - 3s/epoch - 10ms/step\n",
            "\n",
            "Test Accuracy: 0.7044000029563904\n"
          ]
        }
      ]
    },
    {
      "cell_type": "code",
      "source": [
        "# Generate predictions for the test set\n",
        "predictions = model.predict(test_images)\n",
        "predicted_labels = tf.argmax(predictions, axis=1)"
      ],
      "metadata": {
        "colab": {
          "base_uri": "https://localhost:8080/"
        },
        "id": "s2IMEpvvXa08",
        "outputId": "8da39959-0a47-4d2c-833e-15c87bfc0cbc"
      },
      "execution_count": null,
      "outputs": [
        {
          "output_type": "stream",
          "name": "stdout",
          "text": [
            "313/313 [==============================] - 4s 12ms/step\n"
          ]
        }
      ]
    },
    {
      "cell_type": "code",
      "source": [
        "# Calculate and print confusion matrix, recall, precision, and F1 score\n",
        "cm = confusion_matrix(test_labels, predicted_labels)\n",
        "print(\"\\nConfusion Matrix:\\n\", cm)\n",
        "report = classification_report(test_labels, predicted_labels)\n",
        "print(\"\\nClassification Report:\\n\", report)"
      ],
      "metadata": {
        "colab": {
          "base_uri": "https://localhost:8080/"
        },
        "id": "zToN67pUXdXm",
        "outputId": "c27f7e23-38d0-4ce6-c081-3faa7a5de63d"
      },
      "execution_count": null,
      "outputs": [
        {
          "output_type": "stream",
          "name": "stdout",
          "text": [
            "\n",
            "Confusion Matrix:\n",
            " [[779   9  47  32  16   1   8  14  61  33]\n",
            " [ 31 757   7  14   3   4   5   5  66 108]\n",
            " [ 68   4 600  88 105  38  40  40  12   5]\n",
            " [ 18   3  65 601 104  91  53  30  20  15]\n",
            " [ 19   4  65  62 731  13  29  65  10   2]\n",
            " [ 17   2  63 284  72 465  17  70   7   3]\n",
            " [  7   2  65  85  62  20 734  12   8   5]\n",
            " [ 25   1  36  58  80  36   4 747   5   8]\n",
            " [ 81  10  13  25   5   1   5   5 830  25]\n",
            " [ 41  55   7  23   6   6   4  17  41 800]]\n",
            "\n",
            "Classification Report:\n",
            "               precision    recall  f1-score   support\n",
            "\n",
            "           0       0.72      0.78      0.75      1000\n",
            "           1       0.89      0.76      0.82      1000\n",
            "           2       0.62      0.60      0.61      1000\n",
            "           3       0.47      0.60      0.53      1000\n",
            "           4       0.62      0.73      0.67      1000\n",
            "           5       0.69      0.47      0.56      1000\n",
            "           6       0.82      0.73      0.77      1000\n",
            "           7       0.74      0.75      0.75      1000\n",
            "           8       0.78      0.83      0.81      1000\n",
            "           9       0.80      0.80      0.80      1000\n",
            "\n",
            "    accuracy                           0.70     10000\n",
            "   macro avg       0.71      0.70      0.71     10000\n",
            "weighted avg       0.71      0.70      0.71     10000\n",
            "\n"
          ]
        }
      ]
    },
    {
      "cell_type": "code",
      "source": [
        "# Visualize the training history to check for overfitting\n",
        "plt.plot(history_without_augmentation.history['accuracy'], label='Training Accuracy')\n",
        "plt.plot(history_without_augmentation.history['val_accuracy'], label='Validation Accuracy')\n",
        "plt.xlabel('Epoch')\n",
        "plt.ylabel('Accuracy')\n",
        "plt.legend()\n",
        "plt.show()"
      ],
      "metadata": {
        "colab": {
          "base_uri": "https://localhost:8080/",
          "height": 449
        },
        "id": "DGeagoXDXl-M",
        "outputId": "c2855cd6-d0cb-4777-973b-45f7bcafe774"
      },
      "execution_count": null,
      "outputs": [
        {
          "output_type": "display_data",
          "data": {
            "text/plain": [
              "<Figure size 640x480 with 1 Axes>"
            ],
            "image/png": "[encoded data removed]"
          },
          "metadata": {}
        }
      ]
    },
    {
      "cell_type": "markdown",
      "source": [
        "**WITH AUGMENTATION**"
      ],
      "metadata": {
        "id": "_cwbLUzNXpiZ"
      }
    },
    {
      "cell_type": "code",
      "source": [
        "from tensorflow.keras.preprocessing.image import ImageDataGenerator\n",
        "\n",
        "# Create an ImageDataGenerator with augmentation configurations\n",
        "datagen = ImageDataGenerator(\n",
        "    rotation_range=15,\n",
        "    width_shift_range=0.1,\n",
        "    height_shift_range=0.1,\n",
        "    horizontal_flip=True,\n",
        "    zoom_range=0.2\n",
        ")"
      ],
      "metadata": {
        "id": "82oDq8z7XwQF"
      },
      "execution_count": null,
      "outputs": []
    },
    {
      "cell_type": "code",
      "source": [
        "# Apply image augmentation to the training set\n",
        "augmented_train_data = datagen.flow(train_images, train_labels)"
      ],
      "metadata": {
        "id": "oLjynqRCX64A"
      },
      "execution_count": null,
      "outputs": []
    },
    {
      "cell_type": "code",
      "source": [
        "# Define the CNN model\n",
        "model = models.Sequential()\n",
        "model.add(layers.Conv2D(32, (3, 3), activation='relu', input_shape=(32, 32, 3)))\n",
        "model.add(layers.MaxPooling2D((2, 2)))\n",
        "model.add(layers.Conv2D(64, (3, 3), activation='relu'))\n",
        "model.add(layers.MaxPooling2D((2, 2)))\n",
        "model.add(layers.Conv2D(64, (3, 3), activation='relu'))\n",
        "model.add(layers.Flatten())\n",
        "model.add(layers.Dense(64, activation='relu'))\n",
        "model.add(layers.Dense(10))\n",
        "\n",
        "# Compile the model\n",
        "model.compile(optimizer='adam',\n",
        "              loss=tf.keras.losses.SparseCategoricalCrossentropy(from_logits=True),\n",
        "              metrics=['accuracy'])"
      ],
      "metadata": {
        "id": "ACwJeDlyeu32"
      },
      "execution_count": null,
      "outputs": []
    },
    {
      "cell_type": "code",
      "source": [
        "# Train the model with image augmentation\n",
        "history_with_augmentation = model.fit(augmented_train_data, epochs=10,\n",
        "                                      validation_data=(test_images, test_labels))"
      ],
      "metadata": {
        "colab": {
          "base_uri": "https://localhost:8080/"
        },
        "id": "sUzOE_b6YaLb",
        "outputId": "76c533e2-131c-410c-89a9-679bd1f1020a"
      },
      "execution_count": null,
      "outputs": [
        {
          "output_type": "stream",
          "name": "stdout",
          "text": [
            "Epoch 1/10\n",
            "1563/1563 [==============================] - 95s 60ms/step - loss: 1.6580 - accuracy: 0.1166 - val_loss: 1.3785 - val_accuracy: 0.0776\n",
            "Epoch 2/10\n",
            "1563/1563 [==============================] - 91s 58ms/step - loss: 1.3686 - accuracy: 0.0971 - val_loss: 1.2452 - val_accuracy: 0.0705\n",
            "Epoch 3/10\n",
            "1563/1563 [==============================] - 92s 59ms/step - loss: 1.2522 - accuracy: 0.0978 - val_loss: 1.1118 - val_accuracy: 0.0829\n",
            "Epoch 4/10\n",
            "1563/1563 [==============================] - 93s 60ms/step - loss: 1.1689 - accuracy: 0.0979 - val_loss: 1.0336 - val_accuracy: 0.0805\n",
            "Epoch 5/10\n",
            "1563/1563 [==============================] - 90s 58ms/step - loss: 1.1149 - accuracy: 0.0984 - val_loss: 1.0009 - val_accuracy: 0.1000\n",
            "Epoch 6/10\n",
            "1563/1563 [==============================] - 93s 60ms/step - loss: 1.0674 - accuracy: 0.0995 - val_loss: 0.9485 - val_accuracy: 0.0836\n",
            "Epoch 7/10\n",
            "1563/1563 [==============================] - 92s 59ms/step - loss: 1.0394 - accuracy: 0.0978 - val_loss: 0.9033 - val_accuracy: 0.1149\n",
            "Epoch 8/10\n",
            "1563/1563 [==============================] - 90s 58ms/step - loss: 1.0009 - accuracy: 0.0992 - val_loss: 0.9339 - val_accuracy: 0.1113\n",
            "Epoch 9/10\n",
            "1563/1563 [==============================] - 91s 58ms/step - loss: 0.9748 - accuracy: 0.1005 - val_loss: 0.8800 - val_accuracy: 0.1294\n",
            "Epoch 10/10\n",
            "1563/1563 [==============================] - 91s 58ms/step - loss: 0.9613 - accuracy: 0.1003 - val_loss: 0.9638 - val_accuracy: 0.1041\n"
          ]
        }
      ]
    },
    {
      "cell_type": "code",
      "source": [
        "# Evaluate the model with image augmentation\n",
        "test_loss_aug, test_acc_aug = model.evaluate(test_images,  test_labels, verbose=2)\n",
        "print(\"\\nTest Accuracy with Augmentation:\", test_acc_aug)"
      ],
      "metadata": {
        "colab": {
          "base_uri": "https://localhost:8080/"
        },
        "id": "awbprg66Yrpn",
        "outputId": "e277f2d1-5686-43c6-8559-0c575aea3214"
      },
      "execution_count": null,
      "outputs": [
        {
          "output_type": "stream",
          "name": "stdout",
          "text": [
            "313/313 - 5s - loss: 0.9638 - accuracy: 0.1041 - 5s/epoch - 15ms/step\n",
            "\n",
            "Test Accuracy with Augmentation: 0.10409999638795853\n"
          ]
        }
      ]
    },
    {
      "cell_type": "code",
      "source": [
        "# Generate predictions for the test set with image augmentation\n",
        "predictions_aug = model.predict(test_images)\n",
        "predicted_labels_aug = tf.argmax(predictions_aug, axis=1)"
      ],
      "metadata": {
        "colab": {
          "base_uri": "https://localhost:8080/"
        },
        "id": "MqePAEJiYsdi",
        "outputId": "f467a2ba-4987-4dcc-bb4b-ca6367242cb8"
      },
      "execution_count": null,
      "outputs": [
        {
          "output_type": "stream",
          "name": "stdout",
          "text": [
            "313/313 [==============================] - 3s 11ms/step\n"
          ]
        }
      ]
    },
    {
      "cell_type": "code",
      "source": [
        "# Calculate and print confusion matrix, recall, precision, and F1 score with image augmentation\n",
        "cm_aug = confusion_matrix(test_labels, predicted_labels_aug)\n",
        "print(\"\\nConfusion Matrix with Augmentation:\\n\", cm_aug)\n",
        "\n",
        "report_aug = classification_report(test_labels, predicted_labels_aug)\n",
        "print(\"\\nClassification Report with Augmentation:\\n\", report_aug)"
      ],
      "metadata": {
        "colab": {
          "base_uri": "https://localhost:8080/"
        },
        "id": "fEnH6OZYYvWn",
        "outputId": "2447fa24-0477-41e4-ef96-e1a88b20a733"
      },
      "execution_count": null,
      "outputs": [
        {
          "output_type": "stream",
          "name": "stdout",
          "text": [
            "\n",
            "Confusion Matrix with Augmentation:\n",
            " [[756  43  22   7  12   6  24  17  46  67]\n",
            " [ 11 885   1   2   0   2  21   0   8  70]\n",
            " [ 97  12 422  45  55  68 246  36   8  11]\n",
            " [ 23  15  21 366  36 147 321  41  10  20]\n",
            " [ 26   7  36  36 424  21 327 106   9   8]\n",
            " [ 12   7  16 134  27 575 159  61   2   7]\n",
            " [  5   3   7  12   5  10 950   6   1   1]\n",
            " [ 16   9  17  25  34  53  65 758   3  20]\n",
            " [ 73  63   7   8   7   6  25  10 742  59]\n",
            " [ 22 108   5  10   6   4  33   8   9 795]]\n",
            "\n",
            "Classification Report with Augmentation:\n",
            "               precision    recall  f1-score   support\n",
            "\n",
            "           0       0.73      0.76      0.74      1000\n",
            "           1       0.77      0.89      0.82      1000\n",
            "           2       0.76      0.42      0.54      1000\n",
            "           3       0.57      0.37      0.44      1000\n",
            "           4       0.70      0.42      0.53      1000\n",
            "           5       0.64      0.57      0.61      1000\n",
            "           6       0.44      0.95      0.60      1000\n",
            "           7       0.73      0.76      0.74      1000\n",
            "           8       0.89      0.74      0.81      1000\n",
            "           9       0.75      0.80      0.77      1000\n",
            "\n",
            "    accuracy                           0.67     10000\n",
            "   macro avg       0.70      0.67      0.66     10000\n",
            "weighted avg       0.70      0.67      0.66     10000\n",
            "\n"
          ]
        }
      ]
    },
    {
      "cell_type": "code",
      "source": [
        "# Visualize the training history with image augmentation\n",
        "plt.plot(history_with_augmentation.history['accuracy'], label='Training Accuracy (with Augmentation)')\n",
        "plt.plot(history_with_augmentation.history['val_accuracy'], label='Validation Accuracy (with Augmentation)')\n",
        "plt.xlabel('Epoch')\n",
        "plt.ylabel('Accuracy')\n",
        "plt.legend()\n",
        "plt.show()"
      ],
      "metadata": {
        "colab": {
          "base_uri": "https://localhost:8080/",
          "height": 449
        },
        "id": "ip8LJWzNY7Eu",
        "outputId": "00405f2b-1e26-4647-c46d-b00b67756810"
      },
      "execution_count": null,
      "outputs": [
        {
          "output_type": "display_data",
          "data": {
            "text/plain": [
              "<Figure size 640x480 with 1 Axes>"
            ],
            "image/png": "[encoded data removed]"
          },
          "metadata": {}
        }
      ]
    }
  ]
}